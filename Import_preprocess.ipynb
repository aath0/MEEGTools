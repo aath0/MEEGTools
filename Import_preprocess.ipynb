{
 "cells": [
  {
   "cell_type": "markdown",
   "metadata": {},
   "source": [
    "First, start by downloading some sample data. For a start, you can find an exemplar oddball dataset described here: \n",
    "http://www.fieldtriptoolbox.org/tutorial/natmeg/dataset\n",
    "and the data from here: \n",
    "ftp://ftp.fieldtriptoolbox.org/pub/fieldtrip/tutorial/natmeg\n",
    "\n",
    "defining the path where your data are stored:"
   ]
  },
  {
   "cell_type": "code",
   "execution_count": 2,
   "metadata": {
    "collapsed": true
   },
   "outputs": [],
   "source": [
    "import mne, numpy as np, matplotlib.pyplot as plt\n",
    "rawdata_path = \"/Users/ath/Documents/OpenMEEG/\"\n",
    "\n",
    "filen = \"oddball1_mc_downsampled.fif\"\n"
   ]
  },
  {
   "cell_type": "markdown",
   "metadata": {},
   "source": [
    "Now load the data:"
   ]
  },
  {
   "cell_type": "code",
   "execution_count": 3,
   "metadata": {
    "collapsed": false
   },
   "outputs": [
    {
     "name": "stdout",
     "output_type": "stream",
     "text": [
      "Opening raw data file /Users/ath/Documents/OpenMEEG/oddball1_mc_downsampled.fif...\n",
      "This filename (/Users/ath/Documents/OpenMEEG/oddball1_mc_downsampled.fif) does not conform to MNE naming conventions. All raw files should end with raw.fif, raw_sss.fif, raw_tsss.fif, raw.fif.gz, raw_sss.fif.gz or raw_tsss.fif.gz\n",
      "    Range : 12500 ... 256499 =     50.000 ...  1025.996 secs\n",
      "Ready.\n",
      "Current compensation grade : 0\n",
      "Reading 0 ... 243999  =      0.000 ...   975.996 secs...\n"
     ]
    },
    {
     "name": "stderr",
     "output_type": "stream",
     "text": [
      "<ipython-input-3-7faa856246dc>:1: RuntimeWarning: This filename (/Users/ath/Documents/OpenMEEG/oddball1_mc_downsampled.fif) does not conform to MNE naming conventions. All raw files should end with raw.fif, raw_sss.fif, raw_tsss.fif, raw.fif.gz, raw_sss.fif.gz or raw_tsss.fif.gz\n",
      "  raw = mne.io.read_raw_fif(rawdata_path+filen, preload = True)\n"
     ]
    }
   ],
   "source": [
    "raw = mne.io.read_raw_fif(rawdata_path+filen, preload = True)\n"
   ]
  },
  {
   "cell_type": "code",
   "execution_count": null,
   "metadata": {
    "collapsed": true
   },
   "outputs": [],
   "source": []
  }
 ],
 "metadata": {
  "kernelspec": {
   "display_name": "Python 3",
   "language": "python",
   "name": "python3"
  },
  "language_info": {
   "codemirror_mode": {
    "name": "ipython",
    "version": 3
   },
   "file_extension": ".py",
   "mimetype": "text/x-python",
   "name": "python",
   "nbconvert_exporter": "python",
   "pygments_lexer": "ipython3",
   "version": "3.5.4"
  }
 },
 "nbformat": 4,
 "nbformat_minor": 0
}
